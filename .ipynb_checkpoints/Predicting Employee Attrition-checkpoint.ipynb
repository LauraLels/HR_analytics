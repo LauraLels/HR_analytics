{
 "cells": [
  {
   "cell_type": "markdown",
   "id": "c92830f9",
   "metadata": {},
   "source": [
    "# Predicting Employee Attrition\n",
    "\n",
    "Author: Laura Lin\n",
    "\n",
    "I explore factors that impact employee attrition and build a predictive model for likelihood to attrite.\n",
    "\n",
    "The data is sourced from Kaggle: https://www.kaggle.com/datasets/pavansubhasht/ibm-hr-analytics-attrition-dataset?select=WA_Fn-UseC_-HR-Employee-Attrition.csv\n",
    "\n",
    "# Background and Purpose\n",
    "\n",
    "Employee turnover can be costly to a company: when an employee leaves (especially a seasoned employee), their expertise and their knowledge of the company leaves with them. The cost of recruiting and training a new employee while managing disruptions to the business due to the gap left behind can rack up. According to a <a href=\"https://archive.canadianbusiness.com/leadership/the-true-cost-of-staff-turnover-and-one-smart-way-to-reduce-it/\">Manulife study</a>, the cost of employee turnover is on average 40% of an employee's salary. The more skilled and specialized the employee is, the cost percentage increases.\n",
    "\n",
    "If we can understand what causes employee turnover within a company and predict how likely an employee would leave, we can implement intervention strategies to reduce turnover. Thus, I am interested in the key factors impacting employee attrition and will build a predictive model for likelihood to attrite."
   ]
  },
  {
   "cell_type": "code",
   "execution_count": null,
   "id": "a435931b",
   "metadata": {},
   "outputs": [],
   "source": []
  }
 ],
 "metadata": {
  "kernelspec": {
   "display_name": "Python 3 (ipykernel)",
   "language": "python",
   "name": "python3"
  },
  "language_info": {
   "codemirror_mode": {
    "name": "ipython",
    "version": 3
   },
   "file_extension": ".py",
   "mimetype": "text/x-python",
   "name": "python",
   "nbconvert_exporter": "python",
   "pygments_lexer": "ipython3",
   "version": "3.9.7"
  }
 },
 "nbformat": 4,
 "nbformat_minor": 5
}
